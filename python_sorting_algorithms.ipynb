{
 "cells": [
  {
   "cell_type": "code",
   "execution_count": 46,
   "metadata": {
    "collapsed": true
   },
   "outputs": [],
   "source": [
    "some_numbers = [3,7,8,10,11,13,100,2,1]"
   ]
  },
  {
   "cell_type": "code",
   "execution_count": 1,
   "metadata": {
    "collapsed": false
   },
   "outputs": [],
   "source": [
    "def bubble_sort(some_numbers):\n",
    "    sorted = False\n",
    "    while not sorted:\n",
    "        sorted = True\n",
    "        for i, item in enumerate(some_numbers):\n",
    "            if i + 1 < len(some_numbers):\n",
    "                if some_numbers[i] > some_numbers[i + 1]:\n",
    "                    print \"{0} is greater than {1}\".format(some_numbers[i],some_numbers[i + 1])\n",
    "                    print \"Swap {0} with {1}\".format(some_numbers[i],some_numbers[i + 1])                    \n",
    "                    some_numbers[i],some_numbers[i+1] = some_numbers[i+1],some_numbers[i]\n",
    "                    sorted = False\n",
    "                    print \"Current list looks like this: {0}\".format(some_numbers)\n",
    "    return some_numbers"
   ]
  },
  {
   "cell_type": "code",
   "execution_count": null,
   "metadata": {
    "collapsed": false
   },
   "outputs": [],
   "source": [
    "bubble_sort(some_numbers)"
   ]
  },
  {
   "cell_type": "code",
   "execution_count": 15,
   "metadata": {
    "collapsed": false
   },
   "outputs": [],
   "source": [
    "def insertion_sort(some_numbers):\n",
    "    for i, item in enumerate(some_numbers):\n",
    "        number = some_numbers[i] \n",
    "        print \"starting with {0}\".format(number)\n",
    "        while some_numbers[i-1] > number and i > 0:\n",
    "            print \"{0} is greater than {1} so we swap {2} with {3}\".format(some_numbers[i-1],number,some_numbers[i],some_numbers[i-1])\n",
    "            some_numbers[i],some_numbers[i-1] = some_numbers[i-1],some_numbers[i]\n",
    "            print \"Current list looks like this: {0}\".format(some_numbers)\n",
    "            print \"resetting index to {0}\".format(i - 1)\n",
    "            i = i - 1"
   ]
  },
  {
   "cell_type": "code",
   "execution_count": 12,
   "metadata": {
    "collapsed": false
   },
   "outputs": [
    {
     "name": "stdout",
     "output_type": "stream",
     "text": [
      "starting with 3\n"
     ]
    },
    {
     "data": {
      "text/plain": [
       "[3, 7, 8, 10, 11, 13, 100, 2, 1]"
      ]
     },
     "execution_count": 12,
     "metadata": {},
     "output_type": "execute_result"
    }
   ],
   "source": [
    "insertion_sort(some_numbers)"
   ]
  },
  {
   "cell_type": "code",
   "execution_count": 19,
   "metadata": {
    "collapsed": true
   },
   "outputs": [],
   "source": [
    "goober = [84,35,12,8,7,52,96,23]"
   ]
  },
  {
   "cell_type": "code",
   "execution_count": 16,
   "metadata": {
    "collapsed": false
   },
   "outputs": [
    {
     "name": "stdout",
     "output_type": "stream",
     "text": [
      "starting with 84\n",
      "starting with 35\n",
      "84 is greater than 35 so we swap 35 with 84\n",
      "Current list looks like this: [35, 84, 12, 8, 7, 52, 96, 23]\n",
      "resetting index to 0\n",
      "starting with 12\n",
      "84 is greater than 12 so we swap 12 with 84\n",
      "Current list looks like this: [35, 12, 84, 8, 7, 52, 96, 23]\n",
      "resetting index to 1\n",
      "35 is greater than 12 so we swap 12 with 35\n",
      "Current list looks like this: [12, 35, 84, 8, 7, 52, 96, 23]\n",
      "resetting index to 0\n",
      "starting with 8\n",
      "84 is greater than 8 so we swap 8 with 84\n",
      "Current list looks like this: [12, 35, 8, 84, 7, 52, 96, 23]\n",
      "resetting index to 2\n",
      "35 is greater than 8 so we swap 8 with 35\n",
      "Current list looks like this: [12, 8, 35, 84, 7, 52, 96, 23]\n",
      "resetting index to 1\n",
      "12 is greater than 8 so we swap 8 with 12\n",
      "Current list looks like this: [8, 12, 35, 84, 7, 52, 96, 23]\n",
      "resetting index to 0\n",
      "starting with 7\n",
      "84 is greater than 7 so we swap 7 with 84\n",
      "Current list looks like this: [8, 12, 35, 7, 84, 52, 96, 23]\n",
      "resetting index to 3\n",
      "35 is greater than 7 so we swap 7 with 35\n",
      "Current list looks like this: [8, 12, 7, 35, 84, 52, 96, 23]\n",
      "resetting index to 2\n",
      "12 is greater than 7 so we swap 7 with 12\n",
      "Current list looks like this: [8, 7, 12, 35, 84, 52, 96, 23]\n",
      "resetting index to 1\n",
      "8 is greater than 7 so we swap 7 with 8\n",
      "Current list looks like this: [7, 8, 12, 35, 84, 52, 96, 23]\n",
      "resetting index to 0\n",
      "starting with 52\n",
      "84 is greater than 52 so we swap 52 with 84\n",
      "Current list looks like this: [7, 8, 12, 35, 52, 84, 96, 23]\n",
      "resetting index to 4\n",
      "starting with 96\n",
      "starting with 23\n",
      "96 is greater than 23 so we swap 23 with 96\n",
      "Current list looks like this: [7, 8, 12, 35, 52, 84, 23, 96]\n",
      "resetting index to 6\n",
      "84 is greater than 23 so we swap 23 with 84\n",
      "Current list looks like this: [7, 8, 12, 35, 52, 23, 84, 96]\n",
      "resetting index to 5\n",
      "52 is greater than 23 so we swap 23 with 52\n",
      "Current list looks like this: [7, 8, 12, 35, 23, 52, 84, 96]\n",
      "resetting index to 4\n",
      "35 is greater than 23 so we swap 23 with 35\n",
      "Current list looks like this: [7, 8, 12, 23, 35, 52, 84, 96]\n",
      "resetting index to 3\n"
     ]
    }
   ],
   "source": [
    "insertion_sort(goober)"
   ]
  },
  {
   "cell_type": "code",
   "execution_count": 21,
   "metadata": {
    "collapsed": true
   },
   "outputs": [],
   "source": []
  },
  {
   "cell_type": "code",
   "execution_count": 65,
   "metadata": {
    "collapsed": true
   },
   "outputs": [],
   "source": [
    "def quick_sort(some_numbers):\n",
    "    less = []\n",
    "    more = []\n",
    "    same = []\n",
    "    \n",
    "    if len(some_numbers) > 1:\n",
    "        pivot = some_numbers[0]\n",
    "        print \"pivot is {0}\".format(pivot)\n",
    "        for i, item in enumerate(some_numbers):\n",
    "            if some_numbers[i] < pivot:\n",
    "                print \"{0} is less than {1} appending to less\".format(some_numbers[i],pivot)\n",
    "                less.append(some_numbers[i])\n",
    "                print less\n",
    "            elif some_numbers[i] > pivot:\n",
    "                print \"{0} is greater than {1} appending to more\".format(some_numbers[i],pivot)\n",
    "                more.append(some_numbers[i])\n",
    "                print more\n",
    "            else:\n",
    "                print \"{0} is equal to {1} appending to same\".format(some_numbers[i],pivot)                \n",
    "                same.append(some_numbers[i])\n",
    "                print same\n",
    "        return quicksort(less) + same + quicksort(more)\n",
    "    else:\n",
    "        return some_numbers"
   ]
  },
  {
   "cell_type": "code",
   "execution_count": null,
   "metadata": {
    "collapsed": true
   },
   "outputs": [],
   "source": []
  }
 ],
 "metadata": {
  "kernelspec": {
   "display_name": "Python 2",
   "language": "python",
   "name": "python2"
  },
  "language_info": {
   "codemirror_mode": {
    "name": "ipython",
    "version": 2
   },
   "file_extension": ".py",
   "mimetype": "text/x-python",
   "name": "python",
   "nbconvert_exporter": "python",
   "pygments_lexer": "ipython2",
   "version": "2.7.11"
  }
 },
 "nbformat": 4,
 "nbformat_minor": 0
}
